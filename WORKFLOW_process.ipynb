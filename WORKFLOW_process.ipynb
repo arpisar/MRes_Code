{
 "cells": [
  {
   "cell_type": "code",
   "execution_count": 1,
   "metadata": {},
   "outputs": [
    {
     "ename": "ValueError",
     "evalue": "could not convert string to float: '##TITLE=No'",
     "output_type": "error",
     "traceback": [
      "\u001b[0;31m---------------------------------------------------------------------------\u001b[0m",
      "\u001b[0;31mValueError\u001b[0m                                Traceback (most recent call last)",
      "Cell \u001b[0;32mIn[1], line 37\u001b[0m\n\u001b[1;32m     32\u001b[0m             \u001b[38;5;28mprint\u001b[39m(\u001b[38;5;124mf\u001b[39m\u001b[38;5;124m\"\u001b[39m\u001b[38;5;124mProcessing complete for \u001b[39m\u001b[38;5;132;01m{\u001b[39;00mfilename\u001b[38;5;132;01m}\u001b[39;00m\u001b[38;5;124m. Results saved to \u001b[39m\u001b[38;5;132;01m{\u001b[39;00moutput_file\u001b[38;5;132;01m}\u001b[39;00m\u001b[38;5;124m\"\u001b[39m)\n\u001b[1;32m     36\u001b[0m \u001b[38;5;66;03m# Replace 'your_input_directory' with the actual directory path containing your input files\u001b[39;00m\n\u001b[0;32m---> 37\u001b[0m \u001b[43mprocess_files\u001b[49m\u001b[43m(\u001b[49m\u001b[38;5;124;43m'\u001b[39;49m\u001b[38;5;124;43m/Users/arpi/data/11.04.24\u001b[39;49m\u001b[38;5;124;43m'\u001b[39;49m\u001b[43m)\u001b[49m\n",
      "Cell \u001b[0;32mIn[1], line 15\u001b[0m, in \u001b[0;36mprocess_files\u001b[0;34m(input_directory)\u001b[0m\n\u001b[1;32m     13\u001b[0m output_lines \u001b[38;5;241m=\u001b[39m []\n\u001b[1;32m     14\u001b[0m \u001b[38;5;28;01mfor\u001b[39;00m line \u001b[38;5;129;01min\u001b[39;00m lines:\n\u001b[0;32m---> 15\u001b[0m     wavenumber, transmission \u001b[38;5;241m=\u001b[39m \u001b[38;5;28mmap\u001b[39m(\u001b[38;5;28mfloat\u001b[39m, line\u001b[38;5;241m.\u001b[39mstrip()\u001b[38;5;241m.\u001b[39msplit())\n\u001b[1;32m     17\u001b[0m     \u001b[38;5;66;03m# Convert wavenumber to wavelength\u001b[39;00m\n\u001b[1;32m     18\u001b[0m     wavelength \u001b[38;5;241m=\u001b[39m \u001b[38;5;241m1\u001b[39m \u001b[38;5;241m/\u001b[39m wavenumber \u001b[38;5;241m*\u001b[39m \u001b[38;5;241m1e4\u001b[39m\n",
      "\u001b[0;31mValueError\u001b[0m: could not convert string to float: '##TITLE=No'"
     ]
    }
   ],
   "source": [
    "import os\n",
    "\n",
    "def process_files(input_directory):\n",
    "    for filename in os.listdir(input_directory):\n",
    "        if filename.endswith(\".txt\"):\n",
    "            input_file_path = os.path.join(input_directory, filename)\n",
    "\n",
    "            # Read data from the input file\n",
    "            with open(input_file_path, 'r') as file:\n",
    "                lines = file.readlines()\n",
    "\n",
    "            # Process data and create new columns\n",
    "            output_lines = []\n",
    "            for line in lines:\n",
    "                wavenumber, transmission = map(float, line.strip().split())\n",
    "\n",
    "                # Convert wavenumber to wavelength\n",
    "                wavelength = 1 / wavenumber * 1e4\n",
    "\n",
    "                # Create new column names\n",
    "                wavelength_col_name = f\"wavelength_{filename}\"\n",
    "                transmission_col_name = f\"transmission_{filename}\"\n",
    "\n",
    "                # Append results to the output lines\n",
    "                output_lines.append(f\"{wavelength} {transmission / 100}\\n\")\n",
    "\n",
    "            # Write the processed data to a new file\n",
    "            output_file = os.path.join(input_directory, f\"processed_{filename}\")\n",
    "            with open(output_file, 'w') as file:\n",
    "                file.writelines(output_lines)\n",
    "\n",
    "            print(f\"Processing complete for {filename}. Results saved to {output_file}\")\n",
    "\n",
    "\n",
    "\n",
    "# Replace 'your_input_directory' with the actual directory path containing your input files\n",
    "process_files('/Users/arpi/data/11.04.24')\n"
   ]
  }
 ],
 "metadata": {
  "kernelspec": {
   "display_name": "test",
   "language": "python",
   "name": "python3"
  },
  "language_info": {
   "codemirror_mode": {
    "name": "ipython",
    "version": 3
   },
   "file_extension": ".py",
   "mimetype": "text/x-python",
   "name": "python",
   "nbconvert_exporter": "python",
   "pygments_lexer": "ipython3",
   "version": "3.9.12"
  }
 },
 "nbformat": 4,
 "nbformat_minor": 2
}
