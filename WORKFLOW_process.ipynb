{
 "cells": [
  {
   "cell_type": "code",
   "execution_count": 5,
   "metadata": {},
   "outputs": [
    {
     "name": "stdout",
     "output_type": "stream",
     "text": [
      "Processing complete for CAF6.txt. Results saved to /Users/arpi/data/30.01.24/processed_CAF6.txt\n",
      "Processing complete for CAF7.txt. Results saved to /Users/arpi/data/30.01.24/processed_CAF7.txt\n",
      "Processing complete for CAF5.txt. Results saved to /Users/arpi/data/30.01.24/processed_CAF5.txt\n",
      "Processing complete for CAF4.txt. Results saved to /Users/arpi/data/30.01.24/processed_CAF4.txt\n",
      "Processing complete for CAF1.txt. Results saved to /Users/arpi/data/30.01.24/processed_CAF1.txt\n",
      "Processing complete for CAF3.txt. Results saved to /Users/arpi/data/30.01.24/processed_CAF3.txt\n",
      "Processing complete for CAF2.txt. Results saved to /Users/arpi/data/30.01.24/processed_CAF2.txt\n",
      "Processing complete for CAF9.txt. Results saved to /Users/arpi/data/30.01.24/processed_CAF9.txt\n",
      "Processing complete for CAF8.txt. Results saved to /Users/arpi/data/30.01.24/processed_CAF8.txt\n"
     ]
    }
   ],
   "source": [
    "import os\n",
    "\n",
    "def process_files(input_directory):\n",
    "    for filename in os.listdir(input_directory):\n",
    "        if filename.endswith(\".txt\"):\n",
    "            input_file_path = os.path.join(input_directory, filename)\n",
    "\n",
    "            # Read data from the input file\n",
    "            with open(input_file_path, 'r') as file:\n",
    "                lines = file.readlines()\n",
    "\n",
    "            # Process data and create new columns\n",
    "            output_lines = []\n",
    "            for line in lines:\n",
    "                wavenumber, transmission = map(float, line.strip().split())\n",
    "\n",
    "                # Convert wavenumber to wavelength\n",
    "                wavelength = 1 / wavenumber * 1e4\n",
    "\n",
    "                # Create new column names\n",
    "                wavelength_col_name = f\"wavelength_{filename}\"\n",
    "                transmission_col_name = f\"transmission_{filename}\"\n",
    "\n",
    "                # Append results to the output lines\n",
    "                output_lines.append(f\"{wavelength} {transmission / 100}\\n\")\n",
    "\n",
    "            # Write the processed data to a new file\n",
    "            output_file = os.path.join(input_directory, f\"processed_{filename}\")\n",
    "            with open(output_file, 'w') as file:\n",
    "                file.writelines(output_lines)\n",
    "\n",
    "            print(f\"Processing complete for {filename}. Results saved to {output_file}\")\n",
    "\n",
    "\n",
    "\n",
    "# Replace 'your_input_directory' with the actual directory path containing your input files\n",
    "process_files('/Users/arpi/data/30.01.24')\n"
   ]
  }
 ],
 "metadata": {
  "kernelspec": {
   "display_name": "test",
   "language": "python",
   "name": "python3"
  },
  "language_info": {
   "codemirror_mode": {
    "name": "ipython",
    "version": 3
   },
   "file_extension": ".py",
   "mimetype": "text/x-python",
   "name": "python",
   "nbconvert_exporter": "python",
   "pygments_lexer": "ipython3",
   "version": "3.9.12"
  }
 },
 "nbformat": 4,
 "nbformat_minor": 2
}
